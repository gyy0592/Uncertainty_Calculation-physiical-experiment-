{
 "cells": [
  {
   "cell_type": "code",
   "execution_count": 19,
   "metadata": {},
   "outputs": [],
   "source": [
    "import numpy as np\n",
    "import sympy as sy\n",
    "import pandas as pd"
   ]
  },
  {
   "cell_type": "code",
   "execution_count": 20,
   "metadata": {},
   "outputs": [],
   "source": [
    "def uncertainty_A(S):\n",
    "    \n",
    "    S_mean=S.sum()/np.size(S)\n",
    "    \n",
    "    return np.sqrt(((S-S_mean)**2).sum()/(np.size(S) * (np.size(S)-1)))\n",
    "\n",
    "def uncertainty_B(delta_eq):\n",
    "    return delta_eq/np.sqrt(3)\n",
    "    "
   ]
  },
  {
   "cell_type": "code",
   "execution_count": 21,
   "metadata": {},
   "outputs": [],
   "source": [
    "def f(x_list,func_list):\n",
    "    temp=0\n",
    "    for func in func_list:\n",
    "        temp+= func(x_list)\n",
    "    return temp\n"
   ]
  },
  {
   "cell_type": "code",
   "execution_count": 22,
   "metadata": {},
   "outputs": [],
   "source": [
    "# an example:\n",
    "a,b = sy.symbols('a, b', real=True)\n",
    "\n",
    "x_list=[a,b]\n",
    "\n",
    "def func1(x_list):\n",
    "    return x_list[0]+x_list[1]\n",
    "\n",
    "def func2(x_list):\n",
    "    return x_list[0]*x_list[1]\n",
    "\n",
    "func_list=[func1,func2]\n",
    "\n",
    "aa=np.array((1,2,3,1,2,3))\n",
    "bb=np.array((1,1,1,1,1,1))\n",
    "x_value=[aa,bb]"
   ]
  },
  {
   "cell_type": "code",
   "execution_count": 23,
   "metadata": {},
   "outputs": [],
   "source": [
    "def uncertainty_Afunc(x_list,x_value,func_list,f):\n",
    "    temp=0\n",
    "    x_mean=[]\n",
    "    for val in x_value:\n",
    "        x_mean.append(np.mean(val))\n",
    "    x_mean=tuple(x_mean)\n",
    "    for lp,x in enumerate(x_list):\n",
    "        ff=f(x_list,func_list)\n",
    "        partial_func=sy.diff(ff,x)\n",
    "        partial_func=sy.lambdify(x_list,partial_func,\"numpy\")\n",
    "        temp+=np.sqrt(uncertainty_A(x_value[lp])**2* partial_func(*x_mean))\n",
    "    return temp"
   ]
  },
  {
   "cell_type": "code",
   "execution_count": 24,
   "metadata": {},
   "outputs": [
    {
     "name": "stdout",
     "output_type": "stream",
     "text": [
      "0.5163977794943222\n"
     ]
    }
   ],
   "source": [
    "\n",
    "print(uncertainty_Afunc(x_list,x_value,func_list,f))"
   ]
  }
 ],
 "metadata": {
  "interpreter": {
   "hash": "c5ba9d0cfe5ea04f9ba4e1f46e3f96c2d734e260c8aa5155ff752b8ecc22858d"
  },
  "kernelspec": {
   "display_name": "Python 3.8.6 64-bit",
   "language": "python",
   "name": "python3"
  },
  "language_info": {
   "codemirror_mode": {
    "name": "ipython",
    "version": 3
   },
   "file_extension": ".py",
   "mimetype": "text/x-python",
   "name": "python",
   "nbconvert_exporter": "python",
   "pygments_lexer": "ipython3",
   "version": "3.8.6"
  },
  "orig_nbformat": 4
 },
 "nbformat": 4,
 "nbformat_minor": 2
}
